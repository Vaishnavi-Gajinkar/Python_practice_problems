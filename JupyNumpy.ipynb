{
 "cells": [
  {
   "cell_type": "code",
   "execution_count": 15,
   "id": "8105303f-0947-4610-abe9-28c3b537096a",
   "metadata": {},
   "outputs": [
    {
     "name": "stdout",
     "output_type": "stream",
     "text": [
      "hello Jupyter\n"
     ]
    }
   ],
   "source": [
    "print(\"hello Jupyter\")"
   ]
  },
  {
   "cell_type": "markdown",
   "id": "4506f231-11ab-4648-b3e0-936184a65c86",
   "metadata": {},
   "source": [
    "1 Dim Array"
   ]
  },
  {
   "cell_type": "code",
   "execution_count": 72,
   "id": "260e9bb2-3c33-4b32-889e-ac9bb238a651",
   "metadata": {},
   "outputs": [
    {
     "name": "stdout",
     "output_type": "stream",
     "text": [
      "['10' '20' '30']\n",
      "<class 'numpy.ndarray'>\n",
      "3\n",
      "(3,)\n",
      "3\n",
      "1\n",
      "<U11\n"
     ]
    }
   ],
   "source": [
    "import numpy as np\n",
    "arr = np.array(['10',\"20\",30])\n",
    "print(arr)\n",
    "print(type(arr))     #datatype of variable\n",
    "print(len(arr))      #number of nested values\n",
    "print(np.shape(arr)) #rows, columns\n",
    "print(np.size(arr))  #number of elements\n",
    "print(np.ndim(arr))  #number of dimentions of array\n",
    "print(arr.dtype)     #datatype of array"
   ]
  },
  {
   "cell_type": "markdown",
   "id": "755bf56d-db7a-4113-938d-efcba922e5e8",
   "metadata": {},
   "source": [
    "2 Dim Array"
   ]
  },
  {
   "cell_type": "code",
   "execution_count": 68,
   "id": "f0fc065b-6414-4b36-b313-65eb98d243dd",
   "metadata": {},
   "outputs": [
    {
     "name": "stdout",
     "output_type": "stream",
     "text": [
      "[[10.5 30.  50.  70.  90. ]\n",
      " [ 0.  20.  40.  60.  80. ]]\n",
      "<class 'numpy.ndarray'>\n",
      "2\n",
      "(2, 5)\n",
      "10\n",
      "2\n",
      "float64\n"
     ]
    }
   ],
   "source": [
    "d2arr = np.array([[10.5,30,50,70,90],[00,20,40,60,80]])\n",
    "print(d2arr)\n",
    "print(type(d2arr))     #datatype of variable\n",
    "print(len(d2arr))      #number of nested values\n",
    "print(np.shape(d2arr)) #rows, columns\n",
    "print(np.size(d2arr))  #number of elements\n",
    "print(np.ndim(d2arr))  #number of dimentions of array\n",
    "print(d2arr.dtype)     #datatype of array"
   ]
  },
  {
   "cell_type": "code",
   "execution_count": 71,
   "id": "ea63f951-d2f3-4f8d-9744-868cd08aa376",
   "metadata": {},
   "outputs": [
    {
     "name": "stdout",
     "output_type": "stream",
     "text": [
      "[[12 34 56 32 57]\n",
      " [45 67 26 76 24]\n",
      " [86 85 57 95 26]]\n",
      "<class 'numpy.ndarray'>\n",
      "3\n",
      "(3, 5)\n",
      "15\n",
      "2\n",
      "int32\n"
     ]
    }
   ],
   "source": [
    "d3arr = np.array([[12,34,56,32,57],[45,67,26,76,24],[86,85,57,95,26]])\n",
    "print(d3arr)\n",
    "print(type(d3arr))     #datatype of variable\n",
    "print(len(d3arr))      #number of nested values\n",
    "print(np.shape(d3arr)) #rows, columns\n",
    "print(np.size(d3arr))  #number of elements\n",
    "print(np.ndim(d3arr))  #number of dimentions of array\n",
    "print(d3arr.dtype)     #datatype of array"
   ]
  },
  {
   "cell_type": "markdown",
   "id": "6c78a0e5-5269-47b4-9858-74fcaac891d7",
   "metadata": {},
   "source": [
    "Slicing"
   ]
  },
  {
   "cell_type": "code",
   "execution_count": 17,
   "id": "dfb9f81d-932a-4541-a489-f86d9a3db3a8",
   "metadata": {},
   "outputs": [
    {
     "name": "stdout",
     "output_type": "stream",
     "text": [
      "[10 20]\n"
     ]
    }
   ],
   "source": [
    "print(arr[0:2])"
   ]
  },
  {
   "cell_type": "code",
   "execution_count": 19,
   "id": "52f5ebf7-8ef1-4871-9d86-2bbd95f32055",
   "metadata": {},
   "outputs": [
    {
     "name": "stdout",
     "output_type": "stream",
     "text": [
      "[20 30]\n"
     ]
    }
   ],
   "source": [
    "print(arr[1:3])"
   ]
  },
  {
   "cell_type": "code",
   "execution_count": 30,
   "id": "22cf5833-efe7-4734-bdbb-2d46442ba034",
   "metadata": {},
   "outputs": [
    {
     "name": "stdout",
     "output_type": "stream",
     "text": [
      "[10 30 50 70 90]\n"
     ]
    }
   ],
   "source": [
    "print(d2arr[0,:])"
   ]
  },
  {
   "cell_type": "code",
   "execution_count": 31,
   "id": "a75ceb3a-5417-433b-b3c0-022f3a05680b",
   "metadata": {},
   "outputs": [
    {
     "name": "stdout",
     "output_type": "stream",
     "text": [
      "[ 0 20 40 60 80]\n"
     ]
    }
   ],
   "source": [
    "print(d2arr[1,:])"
   ]
  },
  {
   "cell_type": "code",
   "execution_count": 32,
   "id": "6d2a4b88-8755-4d0c-b664-0d7595b8e3c4",
   "metadata": {},
   "outputs": [
    {
     "name": "stdout",
     "output_type": "stream",
     "text": [
      "[50 70]\n"
     ]
    }
   ],
   "source": [
    "print(d2arr[0,2:4])"
   ]
  },
  {
   "cell_type": "code",
   "execution_count": 39,
   "id": "32c7ba0a-b009-429f-8f8d-ece8e5653bb9",
   "metadata": {},
   "outputs": [
    {
     "name": "stdout",
     "output_type": "stream",
     "text": [
      "[[10 30 50 70]\n",
      " [ 0 20 40 60]]\n"
     ]
    }
   ],
   "source": [
    "print(d2arr[0:4,0:4])"
   ]
  },
  {
   "cell_type": "code",
   "execution_count": 44,
   "id": "5ef8f898-b2e3-45eb-90c2-43289df0dc4e",
   "metadata": {},
   "outputs": [
    {
     "name": "stdout",
     "output_type": "stream",
     "text": [
      "[40 60]\n"
     ]
    }
   ],
   "source": [
    "print(d2arr[1, 2:4])"
   ]
  },
  {
   "cell_type": "code",
   "execution_count": 56,
   "id": "bf295dfa-43c4-4b88-89af-65fb3e16cb75",
   "metadata": {},
   "outputs": [
    {
     "name": "stdout",
     "output_type": "stream",
     "text": [
      "[57 95]\n"
     ]
    }
   ],
   "source": [
    "print(d3arr[2, 2:4])"
   ]
  },
  {
   "cell_type": "markdown",
   "id": "a30deb69-9d7c-419d-8474-106eeb6c32d1",
   "metadata": {},
   "source": [
    "Type Cast"
   ]
  },
  {
   "cell_type": "code",
   "execution_count": 77,
   "id": "6f615403-e47c-431c-9e30-ca80c3f86082",
   "metadata": {},
   "outputs": [
    {
     "name": "stdout",
     "output_type": "stream",
     "text": [
      "<U11\n",
      "['10' '20' '30']\n",
      "float64\n",
      "[[10 30 50 70 90]\n",
      " [ 0 20 40 60 80]]\n",
      "int32\n",
      "[[12. 34. 56. 32. 57.]\n",
      " [45. 67. 26. 76. 24.]\n",
      " [86. 85. 57. 95. 26.]]\n"
     ]
    }
   ],
   "source": [
    "print(arr.dtype)           #initial datatype\n",
    "print(arr.astype(str))     #after typecast\n",
    "print(d2arr.dtype)         #initial datatype\n",
    "print(d2arr.astype(int))   #after typecast\n",
    "print(d3arr.dtype)         #initial datatype\n",
    "print(d3arr.astype(float)) #after typecast"
   ]
  },
  {
   "cell_type": "markdown",
   "id": "f90bba53-8b15-4c5f-aa27-3e2dff068dcb",
   "metadata": {},
   "source": [
    "Matematical Operations & Functions"
   ]
  },
  {
   "cell_type": "code",
   "execution_count": 83,
   "id": "58856dad-274a-429f-a559-094e20aa6ffa",
   "metadata": {},
   "outputs": [],
   "source": [
    "arr1 = np.array([56,12,75,98,45,57,24,84,75,44])\n",
    "arr2 = np.array([21,43,12,89,54,45,56,56,67,22])\n",
    "arr3 = np.array([[56,12,75,98,45],[57,24,84,75,44]])\n",
    "arr4 = np.array([[21,43,12,89,54],[45,56,56,67,22]])"
   ]
  },
  {
   "cell_type": "code",
   "execution_count": 88,
   "id": "44fea5f8-547e-4838-aadd-2e01d51a3444",
   "metadata": {},
   "outputs": [
    {
     "name": "stdout",
     "output_type": "stream",
     "text": [
      "[ 77  55  87 187  99 102  80 140 142  66]\n",
      "[ 77  55  87 187  99 102  80 140 142  66]\n",
      "\n",
      "[[ 77  55  87 187  99]\n",
      " [102  80 140 142  66]]\n",
      "\n",
      "[[ 77  55  87 187  99]\n",
      " [102  80 140 142  66]]\n"
     ]
    }
   ],
   "source": [
    "# ADDITION\n",
    "print(arr1 + arr2)\n",
    "print(np.add(arr1,arr2))\n",
    "print()\n",
    "print(arr3 + arr4)\n",
    "print()\n",
    "print(np.add(arr3,arr4))"
   ]
  },
  {
   "cell_type": "code",
   "execution_count": 90,
   "id": "055ac85b-61f7-4729-b314-e49fc7864471",
   "metadata": {},
   "outputs": [
    {
     "name": "stdout",
     "output_type": "stream",
     "text": [
      "[ 35 -31  63   9  -9  12 -32  28   8  22]\n",
      "[ 35 -31  63   9  -9  12 -32  28   8  22]\n",
      "\n",
      "[[ 35 -31  63   9  -9]\n",
      " [ 12 -32  28   8  22]]\n",
      "\n",
      "[[ 35 -31  63   9  -9]\n",
      " [ 12 -32  28   8  22]]\n"
     ]
    }
   ],
   "source": [
    "# SUBTRACTION\n",
    "print(arr1 - arr2)\n",
    "print(np.subtract(arr1,arr2))\n",
    "print()\n",
    "print(arr3 - arr4)\n",
    "print()\n",
    "print(np.subtract(arr3,arr4))"
   ]
  },
  {
   "cell_type": "code",
   "execution_count": 92,
   "id": "8ef5e789-672a-4c21-a68a-8da92a820ead",
   "metadata": {},
   "outputs": [
    {
     "name": "stdout",
     "output_type": "stream",
     "text": [
      "[1176  516  900 8722 2430 2565 1344 4704 5025  968]\n",
      "[1176  516  900 8722 2430 2565 1344 4704 5025  968]\n",
      "\n",
      "[[1176  516  900 8722 2430]\n",
      " [2565 1344 4704 5025  968]]\n",
      "\n",
      "[[1176  516  900 8722 2430]\n",
      " [2565 1344 4704 5025  968]]\n"
     ]
    }
   ],
   "source": [
    "# MULTIPLICATION\n",
    "print(arr1 * arr2)\n",
    "print(np.multiply(arr1,arr2))\n",
    "print()\n",
    "print(arr3 * arr4)\n",
    "print()\n",
    "print(np.multiply(arr3,arr4))"
   ]
  },
  {
   "cell_type": "code",
   "execution_count": 94,
   "id": "25b9e3f6-6cc3-4bdd-96ee-f6fd09e9f483",
   "metadata": {},
   "outputs": [
    {
     "name": "stdout",
     "output_type": "stream",
     "text": [
      "[2.66666667 0.27906977 6.25       1.1011236  0.83333333 1.26666667\n",
      " 0.42857143 1.5        1.11940299 2.        ]\n",
      "[2.66666667 0.27906977 6.25       1.1011236  0.83333333 1.26666667\n",
      " 0.42857143 1.5        1.11940299 2.        ]\n",
      "\n",
      "[[2.66666667 0.27906977 6.25       1.1011236  0.83333333]\n",
      " [1.26666667 0.42857143 1.5        1.11940299 2.        ]]\n",
      "\n",
      "[[2.66666667 0.27906977 6.25       1.1011236  0.83333333]\n",
      " [1.26666667 0.42857143 1.5        1.11940299 2.        ]]\n"
     ]
    }
   ],
   "source": [
    "# DIVISION\n",
    "print(arr1 / arr2)\n",
    "print(np.divide(arr1,arr2))\n",
    "print()\n",
    "print(arr3 / arr4)\n",
    "print()\n",
    "print(np.divide(arr3,arr4))"
   ]
  },
  {
   "cell_type": "code",
   "execution_count": 101,
   "id": "fb59a8c8-faf6-42ec-8728-d68992c0d4b7",
   "metadata": {},
   "outputs": [
    {
     "name": "stdout",
     "output_type": "stream",
     "text": [
      "[175616   1728 421875 941192  91125 185193  13824 592704 421875  85184] \n",
      "\n",
      "[[175616   1728 421875 941192  91125]\n",
      " [185193  13824 592704 421875  85184]]\n"
     ]
    }
   ],
   "source": [
    "# POWER \n",
    "pow = np.array([3])\n",
    "print(np.power(arr1,pow),'\\n')\n",
    "print(np.power(arr3,pow))"
   ]
  },
  {
   "cell_type": "code",
   "execution_count": 106,
   "id": "545d5b84-5403-4bc0-9acc-29d4c9a6127b",
   "metadata": {},
   "outputs": [
    {
     "name": "stdout",
     "output_type": "stream",
     "text": [
      "[4.         3.         2.         1.41421356]\n",
      "[4 3 2 1]\n"
     ]
    }
   ],
   "source": [
    "#SQUAREROOT\n",
    "squares = np.array([16,9,4,2])\n",
    "print(np.sqrt(squares))\n",
    "print(np.sqrt(squares).astype(int))"
   ]
  },
  {
   "cell_type": "markdown",
   "id": "5f024d31-f900-485a-9602-9debab7eec42",
   "metadata": {},
   "source": [
    "CONCATENATING ARRAY ELEMENTS"
   ]
  },
  {
   "cell_type": "code",
   "execution_count": 129,
   "id": "018a7fb7-6b2c-4ccb-b480-76f82384b01c",
   "metadata": {},
   "outputs": [
    {
     "name": "stdout",
     "output_type": "stream",
     "text": [
      "[1, 2, 3, 4, 5, 6, 7, 8, 9, 10]\n",
      "[ 10  20  30  40  50  60  70  80  90 100]\n"
     ]
    }
   ],
   "source": [
    "a = [1,2,3,4,5]\n",
    "b = [6,7,8,9,10]\n",
    "print(a+b)\n",
    "c = np.array([10,20,30,40,50])\n",
    "d = np.array([60,70,80,90,100])\n",
    "print(np.concatenate([c,d]))"
   ]
  },
  {
   "cell_type": "code",
   "execution_count": 116,
   "id": "e655de20-aaca-4c61-84c1-4061ed195a03",
   "metadata": {},
   "outputs": [],
   "source": [
    "dim2arr1 = np.array([[32,54],[20,40]])\n",
    "dim2arr2 = np.array([[94,73],[53,16]])"
   ]
  },
  {
   "cell_type": "code",
   "execution_count": 126,
   "id": "a06cccb3-7364-4c30-ba75-d196bc898ed0",
   "metadata": {},
   "outputs": [
    {
     "name": "stdout",
     "output_type": "stream",
     "text": [
      "[[32 54 94 73]\n",
      " [20 40 53 16]] \n",
      "\n",
      "[[32 54 94 73]\n",
      " [20 40 53 16]]\n"
     ]
    }
   ],
   "source": [
    "# CONCATENATE HORIZONTALLY\n",
    "print(np.hstack([dim2arr1,dim2arr2]),\"\\n\")\n",
    "print(np.concatenate([dim2arr1,dim2arr2],axis=1))"
   ]
  },
  {
   "cell_type": "code",
   "execution_count": 128,
   "id": "4d6922b4-4c60-4e3f-9c86-af9d0d16f95e",
   "metadata": {},
   "outputs": [
    {
     "name": "stdout",
     "output_type": "stream",
     "text": [
      "[[32 54]\n",
      " [20 40]\n",
      " [94 73]\n",
      " [53 16]] \n",
      "\n",
      "[[32 54]\n",
      " [20 40]\n",
      " [94 73]\n",
      " [53 16]]\n"
     ]
    }
   ],
   "source": [
    "# CONCATENATE VERTICALLY\n",
    "print(np.vstack([dim2arr1,dim2arr2]),\"\\n\")\n",
    "print(np.concatenate([dim2arr1,dim2arr2],axis=0))"
   ]
  },
  {
   "cell_type": "markdown",
   "id": "ea4e40b8-22d7-4b2b-afd0-06f4fd158c03",
   "metadata": {},
   "source": [
    "SPLITTING ARRAY ELEMENTS"
   ]
  },
  {
   "cell_type": "code",
   "execution_count": 139,
   "id": "75992934-4dee-49c2-b519-0aff399ff399",
   "metadata": {},
   "outputs": [
    {
     "name": "stdout",
     "output_type": "stream",
     "text": [
      "[array([10, 20, 30, 40, 50])]\n",
      "[array([10, 20, 30]), array([40, 50])]\n",
      "[array([10, 20]), array([30, 40]), array([50])]\n",
      "[array([60, 70]), array([80]), array([90]), array([100])]\n",
      "[array([60]), array([70]), array([80]), array([90]), array([100])]\n",
      "[80]\n"
     ]
    }
   ],
   "source": [
    "print(np.array_split(c,1))\n",
    "print(np.array_split(c,2))\n",
    "print(np.array_split(c,3))\n",
    "print(np.array_split(d,4))\n",
    "print(np.array_split(d,5))\n",
    "e = np.array_split(d,5)\n",
    "print(e[2])"
   ]
  },
  {
   "cell_type": "code",
   "execution_count": 146,
   "id": "a8db3eec-0fd5-44b5-a8fd-563423228b90",
   "metadata": {},
   "outputs": [
    {
     "name": "stdout",
     "output_type": "stream",
     "text": [
      "[[32 54]\n",
      " [20 40]\n",
      " [94 73]\n",
      " [53 16]] \n",
      "\n",
      "[array([[32, 54],\n",
      "       [20, 40],\n",
      "       [94, 73],\n",
      "       [53, 16]])] \n",
      "\n",
      "[array([[32, 54],\n",
      "       [20, 40]]), array([[94, 73],\n",
      "       [53, 16]])] \n",
      "\n",
      "[array([[32, 54],\n",
      "       [20, 40]]), array([[94, 73]]), array([[53, 16]])] \n",
      "\n",
      "[array([[32, 54]]), array([[20, 40]]), array([[94, 73]]), array([[53, 16]])] \n",
      "\n",
      "[array([[32, 54]]), array([[20, 40]]), array([[94, 73]]), array([[53, 16]]), array([], shape=(0, 2), dtype=int32)] \n",
      "\n"
     ]
    }
   ],
   "source": [
    "conc = np.concatenate([dim2arr1,dim2arr2],axis=0)\n",
    "print(conc,\"\\n\")\n",
    "print(np.array_split(conc,1),\"\\n\")\n",
    "print(np.array_split(conc,2),\"\\n\")\n",
    "print(np.array_split(conc,3),\"\\n\")\n",
    "print(np.array_split(conc,4),\"\\n\")\n",
    "print(np.array_split(conc,5),\"\\n\")"
   ]
  },
  {
   "cell_type": "markdown",
   "id": "cde90ff1-c439-4d83-9908-42b37732f96e",
   "metadata": {},
   "source": [
    "ADDING / REMOVING ARRAY ELEMENTS"
   ]
  },
  {
   "cell_type": "code",
   "execution_count": 164,
   "id": "d4afa2c7-9b67-47dd-9729-255e4a27eced",
   "metadata": {},
   "outputs": [
    {
     "name": "stdout",
     "output_type": "stream",
     "text": [
      "[ 20  40  60  80 100]\n",
      "\n",
      "[10 30 50 70 90]\n",
      "\n"
     ]
    },
    {
     "ename": "NameError",
     "evalue": "name 'true' is not defined",
     "output_type": "error",
     "traceback": [
      "\u001b[1;31m---------------------------------------------------------------------------\u001b[0m",
      "\u001b[1;31mNameError\u001b[0m                                 Traceback (most recent call last)",
      "Cell \u001b[1;32mIn[164], line 9\u001b[0m\n\u001b[0;32m      7\u001b[0m \u001b[38;5;28mprint\u001b[39m(np\u001b[38;5;241m.\u001b[39mappend(odds,\u001b[38;5;241m90\u001b[39m))\n\u001b[0;32m      8\u001b[0m \u001b[38;5;28mprint\u001b[39m()\n\u001b[1;32m----> 9\u001b[0m \u001b[38;5;28mprint\u001b[39m(np\u001b[38;5;241m.\u001b[39mappend(odds,[\u001b[38;5;241m110\u001b[39m,\u001b[38;5;241m130\u001b[39m],inplace \u001b[38;5;241m=\u001b[39m \u001b[43mtrue\u001b[49m))\n\u001b[0;32m     10\u001b[0m odds\n",
      "\u001b[1;31mNameError\u001b[0m: name 'true' is not defined"
     ]
    }
   ],
   "source": [
    "#Append item at last index . Higher dim array will be converted to 1D and then value is appended\n",
    "# np.append ( array_name, value)\n",
    "evens = np.array([20,40,60,80])\n",
    "print(np.append(evens, 100))\n",
    "print()\n",
    "odds = np.array([[10,30],[50,70]])\n",
    "print(np.append(odds,90))\n",
    "print()\n",
    "print(np.append(odds,[110,130],))\n",
    "odds"
   ]
  },
  {
   "cell_type": "code",
   "execution_count": 161,
   "id": "bb339829-77b3-45d1-a778-79efa0c9314c",
   "metadata": {},
   "outputs": [
    {
     "name": "stdout",
     "output_type": "stream",
     "text": [
      "[20 40 50 60 80]\n",
      "\n",
      "[10 30 40 50 60 80]\n",
      "\n",
      "[[10 30 20]\n",
      " [50 40 60]]\n",
      "\n",
      "[[10 20]\n",
      " [30 40]\n",
      " [50 60]]\n",
      "\n",
      "[[10 35 20 35]\n",
      " [50 35 60 35]]\n",
      "\n",
      "[[10 20]\n",
      " [35 35]\n",
      " [50 60]\n",
      " [35 35]]\n"
     ]
    }
   ],
   "source": [
    "# Insert items to array\n",
    "# np.insert( array_name, position, value)\n",
    "mid_odd = np.array([20,40,60,80])\n",
    "print(np.insert(mid_odd, 2, 50 ))\n",
    "print()\n",
    "mid_set = np.array([[10,30, 60,80]])\n",
    "print(np.insert(mid_set,2,[40,50]))\n",
    "print()\n",
    "mid_seq = np.array([[10,20],[50,60]])\n",
    "print(np.insert(mid_seq,1,[30,40],axis=1))\n",
    "print()\n",
    "print(np.insert(mid_seq,1,[30,40],axis=0))\n",
    "print()\n",
    "print(np.insert(mid_seq,[1,2],[35],axis=1))\n",
    "print()\n",
    "print(np.insert(mid_seq,[1,2],[35],axis=0))"
   ]
  },
  {
   "cell_type": "code",
   "execution_count": 170,
   "id": "ec0b73d4-f53f-4947-a9f8-6c84b514c913",
   "metadata": {},
   "outputs": [
    {
     "name": "stdout",
     "output_type": "stream",
     "text": [
      "[10 20 30 40 50 60 70 80 90]\n",
      "[10 20 30 40 50 70 80 90]\n",
      "\n",
      "[[1 2 3]\n",
      " [4 5 6]\n",
      " [7 8 9]]\n",
      "\n",
      "[1 3 4 5 6 7 8 9]\n",
      "\n",
      "[[1 2 3]\n",
      " [7 8 9]]\n",
      "\n",
      "[[1 3]\n",
      " [4 6]\n",
      " [7 9]]\n"
     ]
    }
   ],
   "source": [
    "# Deleting array element. if delete mentioned without axis, Higher dim array will be converted to 1D and then value at location is deleted\n",
    "# np.delete( array_name, [element])\n",
    "dim1 = np.array([10,20,30,40,50,60,70,80,90])\n",
    "print(dim1)\n",
    "print(np.delete(dim1 , 5))\n",
    "print()\n",
    "dim2 = np.array([[1,2,3],[4,5,6],[7,8,9]])\n",
    "print(dim2)\n",
    "print()\n",
    "print(np.delete(dim2 , 1))\n",
    "print()\n",
    "print(np.delete(dim2 , 1, axis = 0))\n",
    "print()\n",
    "print(np.delete(dim2 , 1, axis = 1))"
   ]
  },
  {
   "cell_type": "markdown",
   "id": "26c3d2c5-b931-470b-b4c7-f030a13cb820",
   "metadata": {},
   "source": [
    "SORT , FILTER , SEARCH array elements"
   ]
  },
  {
   "cell_type": "code",
   "execution_count": 175,
   "id": "63d52c1f-ef1d-4a1c-bf75-37f0ea4c72ca",
   "metadata": {},
   "outputs": [
    {
     "name": "stdout",
     "output_type": "stream",
     "text": [
      "Unarranged 1D array -  [ 7 10  4  9  2  5  8  1  3  6]\n",
      "Arranged 1D array -  [ 1  2  3  4  5  6  7  8  9 10]\n",
      "\n",
      "Unarranged 2D array - \n",
      " [[80 60 40 20  0]\n",
      " [90 70 50 30 10]]\n",
      "Arranged 2D array\n",
      " [[ 0 20 40 60 80]\n",
      " [10 30 50 70 90]]\n"
     ]
    }
   ],
   "source": [
    "unarr = np.array([7,10,4,9,2,5,8,1,3,6])\n",
    "print(\"Unarranged 1D array - \",unarr)\n",
    "arrng = np.sort(unarr)\n",
    "print(\"Arranged 1D array - \",arrng)\n",
    "print()\n",
    "unarr2d = np.array([[80,60,40,20,00],[90,70,50,30,10]])\n",
    "print(\"Unarranged 2D array - \\n\",unarr2d)\n",
    "arrng2d = np.sort(unarr2d)\n",
    "print(\"Arranged 2D array\\n\",arrng2d)"
   ]
  },
  {
   "cell_type": "code",
   "execution_count": 176,
   "id": "3964565d-aaac-4318-88ce-7215ab9b7d31",
   "metadata": {},
   "outputs": [
    {
     "name": "stdout",
     "output_type": "stream",
     "text": [
      "(array([0, 2, 5], dtype=int64),)\n"
     ]
    }
   ],
   "source": [
    "# Search with condition\n",
    "arry = np.array([54,23,76,61,35,84])\n",
    "ser = np.where(arry % 2 == 0)\n",
    "print(ser)\n"
   ]
  },
  {
   "cell_type": "code",
   "execution_count": 186,
   "id": "55f674e5-6f41-41c0-8040-043dbce93aca",
   "metadata": {},
   "outputs": [
    {
     "name": "stdout",
     "output_type": "stream",
     "text": [
      "The searched value is present at position  5  in the sorted array\n"
     ]
    }
   ],
   "source": [
    "#SearchSorted with condition. requires array list to be sorted\n",
    "ary = np.array([54,23,76,61,35,84])\n",
    "srtary = np.sort(ary)\n",
    "ss = np.searchsorted(srtary, 84)\n",
    "print(\"The searched value is present at position \",ss,\" in the sorted array\")"
   ]
  },
  {
   "cell_type": "code",
   "execution_count": 188,
   "id": "48cccbb6-b7b0-4924-a172-61bad77e7e41",
   "metadata": {},
   "outputs": [
    {
     "name": "stdout",
     "output_type": "stream",
     "text": [
      "Original values  [20 30 40 50]\n",
      "After filtering  [20 40]\n"
     ]
    }
   ],
   "source": [
    "# Filter based on condition. only true values are kept in output\n",
    "val = np.array([20,30,40,50])\n",
    "print(\"Original values \",val)\n",
    "cond = [True, False, True, False]\n",
    "filtrd = val[cond]               # can be any condition like val>35, etc\n",
    "print(\"After filtering \",filtrd)"
   ]
  },
  {
   "cell_type": "markdown",
   "id": "c34bdbd8-06b1-4e7d-b1d5-fd08aadfaceb",
   "metadata": {},
   "source": [
    "AGGREGATE FUNCTIONS ON ARRAY"
   ]
  },
  {
   "cell_type": "code",
   "execution_count": 189,
   "id": "1143c559-a975-45b5-b7af-9d3a4bb9651c",
   "metadata": {},
   "outputs": [
    {
     "name": "stdout",
     "output_type": "stream",
     "text": [
      "[20 40 60 70]\n",
      "Sum of array values is  190\n",
      "Min of array values is  20\n",
      "Max of array values is  70\n",
      "Size of array values is  4\n",
      "Mean of array values is  47.5\n",
      "Cumulative sum of array values is  [ 20  60 120 190]\n",
      "Cumultive product of array values is  [     20     800   48000 3360000]\n"
     ]
    }
   ],
   "source": [
    "a = np.array([20,40,60,70])\n",
    "print(a)\n",
    "print(\"Sum of array values is \",np.sum(a))\n",
    "print(\"Min of array values is \",np.min(a))\n",
    "print(\"Max of array values is \",np.max(a))\n",
    "print(\"Size of array values is \",np.size(a))\n",
    "print(\"Mean of array values is \",np.mean(a))\n",
    "print(\"Cumulative sum of array values is \",np.cumsum(a))\n",
    "print(\"Cumultive product of array values is \",np.cumprod(a))"
   ]
  },
  {
   "cell_type": "code",
   "execution_count": 196,
   "id": "d4678e8c-194f-497c-a6e9-8ba4a5e5e962",
   "metadata": {},
   "outputs": [
    {
     "name": "stdout",
     "output_type": "stream",
     "text": [
      "Prices -  [100 150 199 200 250 130] \n",
      "Quantity -  [10 50 30 40 30 10]\n",
      "Total Sales =  31270\n"
     ]
    }
   ],
   "source": [
    "# e.g. WAP to find total sales of all products in shop (total_sales=sum of quantity*rate)\n",
    "price = np.array([100,150,199,200,250,130])\n",
    "quantity = np.array([10,50,30,40,30,10])\n",
    "print(\"Prices - \",price,\"\\nQuantity - \",quantity)\n",
    "#print(\"\\n\")\n",
    "total = np.cumprod([price,quantity], axis = 0)\n",
    "print(\"Total Sales = \",total[1].sum())"
   ]
  },
  {
   "cell_type": "markdown",
   "id": "ad8a71f8-f0aa-47c0-a337-f7b32edcea4f",
   "metadata": {},
   "source": [
    "STATISTICAL FUNCTIONS on Arrays"
   ]
  },
  {
   "cell_type": "code",
   "execution_count": 198,
   "id": "3de69cb7-0bd2-464b-beb5-b02a3578cab7",
   "metadata": {},
   "outputs": [
    {
     "name": "stdout",
     "output_type": "stream",
     "text": [
      "173.5\n",
      "179.0\n",
      "200\n",
      "25.802131694881336\n",
      "665.75\n"
     ]
    }
   ],
   "source": [
    "import statistics as stats\n",
    "values = [200,150,150,130,200,200,170,188]\n",
    "a = np.array([values])\n",
    "print(np.mean(values))\n",
    "print(np.median(values))\n",
    "print(stats.mode(values))\n",
    "print(np.std(values))\n",
    "print(np.var(values))"
   ]
  },
  {
   "cell_type": "code",
   "execution_count": 201,
   "id": "9efe4db6-2cec-49d6-b766-1933249da648",
   "metadata": {},
   "outputs": [
    {
     "name": "stdout",
     "output_type": "stream",
     "text": [
      "[[1.         0.99015454]\n",
      " [0.99015454 1.        ]]\n"
     ]
    }
   ],
   "source": [
    "# correlation coefficient\n",
    "# -1 represents inversly proportional\n",
    "# +1 represents positively related\n",
    "#  0 represents no relation\n",
    "\n",
    "#wap to find relation between tobaco conumption and death\n",
    "tobaco_consumptn = [30,50,10,30,50,40]\n",
    "deaths = [100, 120, 70, 100, 120, 112]\n",
    "print(np.corrcoef([tobaco_consumptn,deaths]))"
   ]
  },
  {
   "cell_type": "code",
   "execution_count": 202,
   "id": "3bbe1862-c0a2-4526-ab2d-7c49d480aa53",
   "metadata": {},
   "outputs": [
    {
     "name": "stdout",
     "output_type": "stream",
     "text": [
      "[[ 1.         -0.66621445]\n",
      " [-0.66621445  1.        ]]\n"
     ]
    }
   ],
   "source": [
    "#wap to find relation between price and sales\n",
    "price = [300,100,350,150,200]\n",
    "sales = [10,20,7,17,3]\n",
    "print(np.corrcoef([price,sales]))"
   ]
  }
 ],
 "metadata": {
  "kernelspec": {
   "display_name": "Python 3 (ipykernel)",
   "language": "python",
   "name": "python3"
  },
  "language_info": {
   "codemirror_mode": {
    "name": "ipython",
    "version": 3
   },
   "file_extension": ".py",
   "mimetype": "text/x-python",
   "name": "python",
   "nbconvert_exporter": "python",
   "pygments_lexer": "ipython3",
   "version": "3.12.3"
  }
 },
 "nbformat": 4,
 "nbformat_minor": 5
}
