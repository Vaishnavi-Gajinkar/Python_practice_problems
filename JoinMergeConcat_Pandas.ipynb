{
 "cells": [
  {
   "cell_type": "code",
   "execution_count": 2,
   "id": "056597f1-1123-4117-b657-d91fa22c751c",
   "metadata": {},
   "outputs": [],
   "source": [
    "import pandas as pd"
   ]
  },
  {
   "cell_type": "markdown",
   "id": "76560b9a-c158-4966-88da-f3087d06a758",
   "metadata": {},
   "source": [
    "    Types Of Merge Operations\n",
    "    a. Inner Join\n",
    "    b. Left Join  | Left Outer Join\n",
    "    c. Right Join | Right Outer Join\n",
    "    d. Outer Join | Full Outer Join\n",
    "    e. Cross Join"
   ]
  },
  {
   "cell_type": "code",
   "execution_count": 4,
   "id": "43d4f7fd-081e-4e1b-ac6c-adda5deb3a4f",
   "metadata": {},
   "outputs": [],
   "source": [
    "order = pd.read_excel(\"sales order.xlsx\", sheet_name = \"Orders\")\n",
    "returns = pd.read_excel(\"sales order.xlsx\", sheet_name = \"Returns\")"
   ]
  },
  {
   "cell_type": "code",
   "execution_count": 6,
   "id": "0b7d876e-cd7a-4d5c-89ab-3f60486db25c",
   "metadata": {},
   "outputs": [
    {
     "name": "stdout",
     "output_type": "stream",
     "text": [
      "(5000, 7) (2000, 5)\n"
     ]
    }
   ],
   "source": [
    "print(order.shape, returns.shape)"
   ]
  },
  {
   "cell_type": "code",
   "execution_count": 10,
   "id": "b0a1f64d-6455-424a-a2ea-424113d74a1c",
   "metadata": {},
   "outputs": [
    {
     "data": {
      "text/html": [
       "<div>\n",
       "<style scoped>\n",
       "    .dataframe tbody tr th:only-of-type {\n",
       "        vertical-align: middle;\n",
       "    }\n",
       "\n",
       "    .dataframe tbody tr th {\n",
       "        vertical-align: top;\n",
       "    }\n",
       "\n",
       "    .dataframe thead th {\n",
       "        text-align: right;\n",
       "    }\n",
       "</style>\n",
       "<table border=\"1\" class=\"dataframe\">\n",
       "  <thead>\n",
       "    <tr style=\"text-align: right;\">\n",
       "      <th></th>\n",
       "      <th>Order ID</th>\n",
       "      <th>Unique ID</th>\n",
       "      <th>Customer</th>\n",
       "      <th>City</th>\n",
       "      <th>Quantity</th>\n",
       "      <th>Price</th>\n",
       "      <th>Total Sale Amount</th>\n",
       "    </tr>\n",
       "  </thead>\n",
       "  <tbody>\n",
       "    <tr>\n",
       "      <th>0</th>\n",
       "      <td>NJ-2016-152156</td>\n",
       "      <td>NJ-2016-TT-107</td>\n",
       "      <td>Raymond Young</td>\n",
       "      <td>Troy</td>\n",
       "      <td>6</td>\n",
       "      <td>12.42</td>\n",
       "      <td>74.52</td>\n",
       "    </tr>\n",
       "    <tr>\n",
       "      <th>1</th>\n",
       "      <td>NJ-2016-138688</td>\n",
       "      <td>NJ-2016-PC-944</td>\n",
       "      <td>Helen Dean</td>\n",
       "      <td>Westfield</td>\n",
       "      <td>7</td>\n",
       "      <td>12.42</td>\n",
       "      <td>86.94</td>\n",
       "    </tr>\n",
       "    <tr>\n",
       "      <th>2</th>\n",
       "      <td>WA-2015-108966</td>\n",
       "      <td>WA-2015-TQ-107</td>\n",
       "      <td>Shirley Chavez</td>\n",
       "      <td>Seattle</td>\n",
       "      <td>2</td>\n",
       "      <td>16.32</td>\n",
       "      <td>32.64</td>\n",
       "    </tr>\n",
       "    <tr>\n",
       "      <th>3</th>\n",
       "      <td>NJ-2014-115812</td>\n",
       "      <td>NJ-2014-ZI-111</td>\n",
       "      <td>Brian Ryan</td>\n",
       "      <td>Westfield</td>\n",
       "      <td>1</td>\n",
       "      <td>12.42</td>\n",
       "      <td>12.42</td>\n",
       "    </tr>\n",
       "    <tr>\n",
       "      <th>4</th>\n",
       "      <td>NJ-2017-114412</td>\n",
       "      <td>NJ-2017-JR-537</td>\n",
       "      <td>Benjamin Willis</td>\n",
       "      <td>Westfield</td>\n",
       "      <td>3</td>\n",
       "      <td>17.83</td>\n",
       "      <td>53.49</td>\n",
       "    </tr>\n",
       "  </tbody>\n",
       "</table>\n",
       "</div>"
      ],
      "text/plain": [
       "         Order ID       Unique ID         Customer       City  Quantity  \\\n",
       "0  NJ-2016-152156  NJ-2016-TT-107    Raymond Young       Troy         6   \n",
       "1  NJ-2016-138688  NJ-2016-PC-944       Helen Dean  Westfield         7   \n",
       "2  WA-2015-108966  WA-2015-TQ-107   Shirley Chavez    Seattle         2   \n",
       "3  NJ-2014-115812  NJ-2014-ZI-111       Brian Ryan  Westfield         1   \n",
       "4  NJ-2017-114412  NJ-2017-JR-537  Benjamin Willis  Westfield         3   \n",
       "\n",
       "   Price  Total Sale Amount  \n",
       "0  12.42              74.52  \n",
       "1  12.42              86.94  \n",
       "2  16.32              32.64  \n",
       "3  12.42              12.42  \n",
       "4  17.83              53.49  "
      ]
     },
     "execution_count": 10,
     "metadata": {},
     "output_type": "execute_result"
    }
   ],
   "source": [
    "order.head()"
   ]
  },
  {
   "cell_type": "code",
   "execution_count": 9,
   "id": "bc0d0a3b-9f0d-40db-b54c-2d3b4cc20195",
   "metadata": {},
   "outputs": [
    {
     "data": {
      "text/html": [
       "<div>\n",
       "<style scoped>\n",
       "    .dataframe tbody tr th:only-of-type {\n",
       "        vertical-align: middle;\n",
       "    }\n",
       "\n",
       "    .dataframe tbody tr th {\n",
       "        vertical-align: top;\n",
       "    }\n",
       "\n",
       "    .dataframe thead th {\n",
       "        text-align: right;\n",
       "    }\n",
       "</style>\n",
       "<table border=\"1\" class=\"dataframe\">\n",
       "  <thead>\n",
       "    <tr style=\"text-align: right;\">\n",
       "      <th></th>\n",
       "      <th>Order ID</th>\n",
       "      <th>Unique ID</th>\n",
       "      <th>Customer</th>\n",
       "      <th>City</th>\n",
       "      <th>State</th>\n",
       "    </tr>\n",
       "  </thead>\n",
       "  <tbody>\n",
       "    <tr>\n",
       "      <th>0</th>\n",
       "      <td>NJ-2016-273214</td>\n",
       "      <td>NJ-ZKDFQ-821902</td>\n",
       "      <td>Raymond Young</td>\n",
       "      <td>Troy</td>\n",
       "      <td>New York</td>\n",
       "    </tr>\n",
       "    <tr>\n",
       "      <th>1</th>\n",
       "      <td>NJ-2016-271456</td>\n",
       "      <td>NJ-UTHRK-895117</td>\n",
       "      <td>Helen Dean</td>\n",
       "      <td>Westfield</td>\n",
       "      <td>New Jersey</td>\n",
       "    </tr>\n",
       "    <tr>\n",
       "      <th>2</th>\n",
       "      <td>WA-2015-451988</td>\n",
       "      <td>WA-ETBAQ-135442</td>\n",
       "      <td>Shirley Chavez</td>\n",
       "      <td>Seattle</td>\n",
       "      <td>Washington</td>\n",
       "    </tr>\n",
       "    <tr>\n",
       "      <th>3</th>\n",
       "      <td>NJ-2014-352961</td>\n",
       "      <td>NJ-EHGXM-601830</td>\n",
       "      <td>Brian Ryan</td>\n",
       "      <td>Westfield</td>\n",
       "      <td>New Jersey</td>\n",
       "    </tr>\n",
       "    <tr>\n",
       "      <th>4</th>\n",
       "      <td>NJ-2017-213231</td>\n",
       "      <td>NJ-CJFQS-287500</td>\n",
       "      <td>Benjamin Willis</td>\n",
       "      <td>Westfield</td>\n",
       "      <td>New Jersey</td>\n",
       "    </tr>\n",
       "  </tbody>\n",
       "</table>\n",
       "</div>"
      ],
      "text/plain": [
       "         Order ID        Unique ID         Customer       City       State\n",
       "0  NJ-2016-273214  NJ-ZKDFQ-821902    Raymond Young       Troy    New York\n",
       "1  NJ-2016-271456  NJ-UTHRK-895117       Helen Dean  Westfield  New Jersey\n",
       "2  WA-2015-451988  WA-ETBAQ-135442   Shirley Chavez    Seattle  Washington\n",
       "3  NJ-2014-352961  NJ-EHGXM-601830       Brian Ryan  Westfield  New Jersey\n",
       "4  NJ-2017-213231  NJ-CJFQS-287500  Benjamin Willis  Westfield  New Jersey"
      ]
     },
     "execution_count": 9,
     "metadata": {},
     "output_type": "execute_result"
    }
   ],
   "source": [
    "returns.head()"
   ]
  },
  {
   "cell_type": "code",
   "execution_count": 25,
   "id": "16ee386a-bd53-47ce-8dcc-2573b45246ba",
   "metadata": {},
   "outputs": [
    {
     "data": {
      "text/plain": [
       "Order ID\n",
       "False    4911\n",
       "True       89\n",
       "Name: count, dtype: int64"
      ]
     },
     "execution_count": 25,
     "metadata": {},
     "output_type": "execute_result"
    }
   ],
   "source": [
    "order['Order ID'].isin(returns['Order ID']).value_counts()"
   ]
  },
  {
   "cell_type": "code",
   "execution_count": 28,
   "id": "95cbed86-3d25-418e-a969-77c83fbf60e6",
   "metadata": {},
   "outputs": [
    {
     "name": "stdout",
     "output_type": "stream",
     "text": [
      "Index(['Order ID', 'Unique ID', 'Customer', 'City', 'State'], dtype='object')\n",
      "Index(['Invoice ID', 'Unique ID', 'Customer', 'City', 'State'], dtype='object')\n"
     ]
    }
   ],
   "source": [
    "print(returns.columns)\n",
    "print(returns.rename(columns = {\"Order ID\":\"Invoice ID\"}).columns)"
   ]
  },
  {
   "cell_type": "markdown",
   "id": "eb44b75d-9091-4ca8-a3e0-35fbe5632b05",
   "metadata": {},
   "source": [
    "    INNER JOIN"
   ]
  },
  {
   "cell_type": "code",
   "execution_count": 16,
   "id": "3295fc3b-a0fe-4945-a345-f7fabb0ccad0",
   "metadata": {},
   "outputs": [
    {
     "name": "stdout",
     "output_type": "stream",
     "text": [
      "(89, 11) \n",
      "\n",
      "         Order ID     Unique ID_x     Customer_x   City_x  Quantity  Price  \\\n",
      "0  WA-2016-117590  NJ-TEXWY-11752   Judy Sanchez  Seattle         7  53.35   \n",
      "1  WA-2015-117415  NJ-QDWAV-21173  Harold Hunter  Seattle         4  12.42   \n",
      "2  MA-2017-120999  WA-JJEKO-18817      Lori Shaw   Lowell         7  16.32   \n",
      "3  NJ-2016-101343  NJ-MJQGV-20387   Sandra Hicks     Troy         1  53.35   \n",
      "4  MA-2017-139619  NJ-SDISO-30581    Roger Gomez   Lowell         7  16.32   \n",
      "\n",
      "   Total Sale Amount     Unique ID_y     Customer_y   City_y          State  \n",
      "0             373.45  NJ-TEXWY-11752   Judy Sanchez  Seattle     Washington  \n",
      "1              49.68  NJ-QDWAV-21173  Harold Hunter  Seattle     Washington  \n",
      "2             114.24  WA-JJEKO-18817      Lori Shaw   Lowell  Massachusetts  \n",
      "3              53.35  NJ-MJQGV-20387   Sandra Hicks     Troy       New York  \n",
      "4             114.24  NJ-SDISO-30581    Roger Gomez   Lowell  Massachusetts  \n"
     ]
    }
   ],
   "source": [
    "ij = pd.merge(left = order, right= returns, on= \"Order ID\", how=\"inner\")\n",
    "print(ij.shape,\"\\n\")\n",
    "print(ij.head())"
   ]
  },
  {
   "cell_type": "markdown",
   "id": "73e5c127-f9b7-4064-975e-1a13e30d387f",
   "metadata": {},
   "source": [
    "    LEFT OUTER JOIN"
   ]
  },
  {
   "cell_type": "code",
   "execution_count": 24,
   "id": "b8852630-21cc-4c6e-98e4-051efa29d796",
   "metadata": {},
   "outputs": [
    {
     "name": "stdout",
     "output_type": "stream",
     "text": [
      "(5000, 11) \n",
      "\n",
      "         Order ID Unique ID_OrdersTable Customer_OrdersTable City_OrdersTable  \\\n",
      "0  NJ-2016-152156        NJ-2016-TT-107        Raymond Young             Troy   \n",
      "1  NJ-2016-138688        NJ-2016-PC-944           Helen Dean        Westfield   \n",
      "2  WA-2015-108966        WA-2015-TQ-107       Shirley Chavez          Seattle   \n",
      "3  NJ-2014-115812        NJ-2014-ZI-111           Brian Ryan        Westfield   \n",
      "4  NJ-2017-114412        NJ-2017-JR-537      Benjamin Willis        Westfield   \n",
      "\n",
      "   Quantity  Price  Total Sale Amount Unique ID_ReturnsTable  \\\n",
      "0         6  12.42              74.52                    NaN   \n",
      "1         7  12.42              86.94                    NaN   \n",
      "2         2  16.32              32.64                    NaN   \n",
      "3         1  12.42              12.42                    NaN   \n",
      "4         3  17.83              53.49                    NaN   \n",
      "\n",
      "  Customer_ReturnsTable City_ReturnsTable State  \n",
      "0                   NaN               NaN   NaN  \n",
      "1                   NaN               NaN   NaN  \n",
      "2                   NaN               NaN   NaN  \n",
      "3                   NaN               NaN   NaN  \n",
      "4                   NaN               NaN   NaN  \n"
     ]
    }
   ],
   "source": [
    "loj = pd.merge(left = order, right= returns, on= \"Order ID\", how=\"left\", suffixes=(\"_OrdersTable\",\"_ReturnsTable\"))\n",
    "print(loj.shape,\"\\n\")\n",
    "print(loj.head())"
   ]
  },
  {
   "cell_type": "markdown",
   "id": "f5bcd71b-1c0f-4124-b06e-b16899b28d65",
   "metadata": {},
   "source": [
    "    RIGHT OUTER JOIN"
   ]
  },
  {
   "cell_type": "code",
   "execution_count": 31,
   "id": "b1756929-92e7-456e-9fee-b45f1fd98e0a",
   "metadata": {},
   "outputs": [
    {
     "name": "stdout",
     "output_type": "stream",
     "text": [
      "(2000, 12) \n",
      "\n",
      "         Order ID Unique ID_x Customer_x City_x  Quantity  Price  \\\n",
      "0  NJ-2016-273214         NaN        NaN    NaN       NaN    NaN   \n",
      "1  NJ-2016-271456         NaN        NaN    NaN       NaN    NaN   \n",
      "2  WA-2015-451988         NaN        NaN    NaN       NaN    NaN   \n",
      "3  NJ-2014-352961         NaN        NaN    NaN       NaN    NaN   \n",
      "4  NJ-2017-213231         NaN        NaN    NaN       NaN    NaN   \n",
      "\n",
      "   Total Sale Amount      Unique ID_y       Customer_y     City_y       State  \\\n",
      "0                NaN  NJ-ZKDFQ-821902    Raymond Young       Troy    New York   \n",
      "1                NaN  NJ-UTHRK-895117       Helen Dean  Westfield  New Jersey   \n",
      "2                NaN  WA-ETBAQ-135442   Shirley Chavez    Seattle  Washington   \n",
      "3                NaN  NJ-EHGXM-601830       Brian Ryan  Westfield  New Jersey   \n",
      "4                NaN  NJ-CJFQS-287500  Benjamin Willis  Westfield  New Jersey   \n",
      "\n",
      "       _merge  \n",
      "0  right_only  \n",
      "1  right_only  \n",
      "2  right_only  \n",
      "3  right_only  \n",
      "4  right_only   \n",
      "\n"
     ]
    },
    {
     "data": {
      "text/plain": [
       "_merge\n",
       "right_only    1911\n",
       "both            89\n",
       "left_only        0\n",
       "Name: count, dtype: int64"
      ]
     },
     "execution_count": 31,
     "metadata": {},
     "output_type": "execute_result"
    }
   ],
   "source": [
    "roj = pd.merge(left = order, right= returns, on= \"Order ID\", how=\"right\", indicator=True)\n",
    "print(roj.shape,\"\\n\")\n",
    "print(roj.head(),\"\\n\")\n",
    "roj._merge.value_counts()"
   ]
  },
  {
   "cell_type": "markdown",
   "id": "22f80922-48d8-45e6-9bf8-38d064b6ab18",
   "metadata": {},
   "source": [
    "    FULL OUTER JOIN"
   ]
  },
  {
   "cell_type": "code",
   "execution_count": 32,
   "id": "e9ab0c98-9601-45a7-adfd-982326b20d0a",
   "metadata": {},
   "outputs": [
    {
     "name": "stdout",
     "output_type": "stream",
     "text": [
      "(6911, 12) \n",
      "\n",
      "         Order ID     Unique ID_x     Customer_x       City_x  Quantity  \\\n",
      "0  CA-2014-100881  CA-2014-WL-316  Dennis Fields  Los Angeles       5.0   \n",
      "1  CA-2014-101175  CA-2014-LA-854  Angela Fowler  Los Angeles       4.0   \n",
      "2  CA-2014-101602  CA-2014-DW-982  Anthony White  Los Angeles       2.0   \n",
      "3  CA-2014-101833  CA-2014-MF-854    Adam Martin  Los Angeles       5.0   \n",
      "4  CA-2014-103086  CA-2014-PK-483  Joan Robinson  Los Angeles       9.0   \n",
      "\n",
      "   Price  Total Sale Amount Unique ID_y Customer_y City_y State     _merge  \n",
      "0  53.35             266.75         NaN        NaN    NaN   NaN  left_only  \n",
      "1  17.83              71.32         NaN        NaN    NaN   NaN  left_only  \n",
      "2  17.83              35.66         NaN        NaN    NaN   NaN  left_only  \n",
      "3  17.83              89.15         NaN        NaN    NaN   NaN  left_only  \n",
      "4  12.42             111.78         NaN        NaN    NaN   NaN  left_only   \n",
      "\n"
     ]
    },
    {
     "data": {
      "text/plain": [
       "_merge\n",
       "left_only     4911\n",
       "right_only    1911\n",
       "both            89\n",
       "Name: count, dtype: int64"
      ]
     },
     "execution_count": 32,
     "metadata": {},
     "output_type": "execute_result"
    }
   ],
   "source": [
    "fj = pd.merge(left = order, right= returns, on= \"Order ID\", how=\"outer\", indicator=True)\n",
    "print(fj.shape,\"\\n\")\n",
    "print(fj.head(),\"\\n\")\n",
    "fj._merge.value_counts()"
   ]
  },
  {
   "cell_type": "markdown",
   "id": "ad458193-dff5-4a36-8474-d9826df9445f",
   "metadata": {},
   "source": [
    "    CROSS JOIN"
   ]
  },
  {
   "cell_type": "code",
   "execution_count": 41,
   "id": "49ddc00e-2a8d-4c4c-8c45-7ae5ea65fa71",
   "metadata": {},
   "outputs": [
    {
     "name": "stdout",
     "output_type": "stream",
     "text": [
      "(10000000, 13) \n",
      "\n",
      "       Order ID_x     Unique ID_x     Customer_x City_x  Quantity  Price  \\\n",
      "0  NJ-2016-152156  NJ-2016-TT-107  Raymond Young   Troy         6  12.42   \n",
      "1  NJ-2016-152156  NJ-2016-TT-107  Raymond Young   Troy         6  12.42   \n",
      "2  NJ-2016-152156  NJ-2016-TT-107  Raymond Young   Troy         6  12.42   \n",
      "3  NJ-2016-152156  NJ-2016-TT-107  Raymond Young   Troy         6  12.42   \n",
      "4  NJ-2016-152156  NJ-2016-TT-107  Raymond Young   Troy         6  12.42   \n",
      "\n",
      "   Total Sale Amount      Order ID_y      Unique ID_y       Customer_y  \\\n",
      "0              74.52  NJ-2016-273214  NJ-ZKDFQ-821902    Raymond Young   \n",
      "1              74.52  NJ-2016-271456  NJ-UTHRK-895117       Helen Dean   \n",
      "2              74.52  WA-2015-451988  WA-ETBAQ-135442   Shirley Chavez   \n",
      "3              74.52  NJ-2014-352961  NJ-EHGXM-601830       Brian Ryan   \n",
      "4              74.52  NJ-2017-213231  NJ-CJFQS-287500  Benjamin Willis   \n",
      "\n",
      "      City_y       State _merge  \n",
      "0       Troy    New York   both  \n",
      "1  Westfield  New Jersey   both  \n",
      "2    Seattle  Washington   both  \n",
      "3  Westfield  New Jersey   both  \n",
      "4  Westfield  New Jersey   both   \n",
      "\n",
      "(0, 13) -- No Values Present in Left only and Right only, however 13 cols present\n"
     ]
    }
   ],
   "source": [
    "cj = pd.merge(left = order, right= returns, how=\"cross\", indicator=True)\n",
    "print(cj.shape,\"\\n\")\n",
    "print(cj.head(),\"\\n\")\n",
    "print(cj[cj._merge.isin([\"left_only\",\"right_only\"])].shape,\"-- No Values Present in Left only and Right only, however 13 cols present\")"
   ]
  },
  {
   "cell_type": "code",
   "execution_count": 47,
   "id": "1934b68e-6401-400d-941d-430541530238",
   "metadata": {},
   "outputs": [
    {
     "name": "stdout",
     "output_type": "stream",
     "text": [
      "(25, 13) -- 25 rows since only 5 rows from both tables were selected. but 13 cols exists in both tables\n"
     ]
    }
   ],
   "source": [
    "subset = pd.merge(order[:5],returns[:5], how=\"cross\", indicator=True)\n",
    "print(subset.shape,\"-- 25 rows since only 5 rows from both tables were selected. but 13 cols exists in both tables\")"
   ]
  },
  {
   "cell_type": "markdown",
   "id": "0a933d69-6a9a-4964-9014-0b9fa0d2e788",
   "metadata": {},
   "source": [
    "    JOINING BASED ON INDEXES"
   ]
  },
  {
   "cell_type": "code",
   "execution_count": 57,
   "id": "7afbe8ec-e5c2-4b84-ac62-bd1e5ba0de6c",
   "metadata": {},
   "outputs": [
    {
     "name": "stdout",
     "output_type": "stream",
     "text": [
      "         Name  Age  Experience\n",
      "EmpID                         \n",
      "111      Amit   31           5\n",
      "222     Jeena   31           2\n",
      "333      John   36           4\n",
      "444     Vivek   35           9\n",
      "555      Luke   40           6\n",
      "666    Harris   36           1\n",
      "777    Warner   32           3\n",
      "888    Dravid   34           1\n",
      "999     Rahul   37           8\n"
     ]
    }
   ],
   "source": [
    "emp = pd.read_clipboard()\n",
    "emp.set_index(\"EmpID\",inplace=True)\n",
    "print(emp)"
   ]
  },
  {
   "cell_type": "code",
   "execution_count": 58,
   "id": "cefa0c46-bd9d-4177-969e-3aa3e5d02472",
   "metadata": {},
   "outputs": [
    {
     "name": "stdout",
     "output_type": "stream",
     "text": [
      "       Salary  Increment\n",
      "EmpID                   \n",
      "111     76804       8448\n",
      "222     70350       8442\n",
      "333     86907       9559\n",
      "444     77576       7757\n",
      "555     59766       5976\n",
      "666     55001       4950\n",
      "777     55673       5010\n",
      "888     54940       5494\n",
      "999     78865       7886\n"
     ]
    }
   ],
   "source": [
    "salary = pd.read_clipboard()\n",
    "salary.set_index(\"EmpID\",inplace=True)\n",
    "print(salary)"
   ]
  },
  {
   "cell_type": "code",
   "execution_count": 59,
   "id": "b122eb0a-6d6b-483a-a650-36264349e501",
   "metadata": {},
   "outputs": [
    {
     "data": {
      "text/html": [
       "<div>\n",
       "<style scoped>\n",
       "    .dataframe tbody tr th:only-of-type {\n",
       "        vertical-align: middle;\n",
       "    }\n",
       "\n",
       "    .dataframe tbody tr th {\n",
       "        vertical-align: top;\n",
       "    }\n",
       "\n",
       "    .dataframe thead th {\n",
       "        text-align: right;\n",
       "    }\n",
       "</style>\n",
       "<table border=\"1\" class=\"dataframe\">\n",
       "  <thead>\n",
       "    <tr style=\"text-align: right;\">\n",
       "      <th></th>\n",
       "      <th>Name</th>\n",
       "      <th>Age</th>\n",
       "      <th>Experience</th>\n",
       "      <th>Salary</th>\n",
       "      <th>Increment</th>\n",
       "    </tr>\n",
       "    <tr>\n",
       "      <th>EmpID</th>\n",
       "      <th></th>\n",
       "      <th></th>\n",
       "      <th></th>\n",
       "      <th></th>\n",
       "      <th></th>\n",
       "    </tr>\n",
       "  </thead>\n",
       "  <tbody>\n",
       "    <tr>\n",
       "      <th>111</th>\n",
       "      <td>Amit</td>\n",
       "      <td>31</td>\n",
       "      <td>5</td>\n",
       "      <td>76804</td>\n",
       "      <td>8448</td>\n",
       "    </tr>\n",
       "    <tr>\n",
       "      <th>222</th>\n",
       "      <td>Jeena</td>\n",
       "      <td>31</td>\n",
       "      <td>2</td>\n",
       "      <td>70350</td>\n",
       "      <td>8442</td>\n",
       "    </tr>\n",
       "    <tr>\n",
       "      <th>333</th>\n",
       "      <td>John</td>\n",
       "      <td>36</td>\n",
       "      <td>4</td>\n",
       "      <td>86907</td>\n",
       "      <td>9559</td>\n",
       "    </tr>\n",
       "    <tr>\n",
       "      <th>444</th>\n",
       "      <td>Vivek</td>\n",
       "      <td>35</td>\n",
       "      <td>9</td>\n",
       "      <td>77576</td>\n",
       "      <td>7757</td>\n",
       "    </tr>\n",
       "    <tr>\n",
       "      <th>555</th>\n",
       "      <td>Luke</td>\n",
       "      <td>40</td>\n",
       "      <td>6</td>\n",
       "      <td>59766</td>\n",
       "      <td>5976</td>\n",
       "    </tr>\n",
       "    <tr>\n",
       "      <th>666</th>\n",
       "      <td>Harris</td>\n",
       "      <td>36</td>\n",
       "      <td>1</td>\n",
       "      <td>55001</td>\n",
       "      <td>4950</td>\n",
       "    </tr>\n",
       "    <tr>\n",
       "      <th>777</th>\n",
       "      <td>Warner</td>\n",
       "      <td>32</td>\n",
       "      <td>3</td>\n",
       "      <td>55673</td>\n",
       "      <td>5010</td>\n",
       "    </tr>\n",
       "    <tr>\n",
       "      <th>888</th>\n",
       "      <td>Dravid</td>\n",
       "      <td>34</td>\n",
       "      <td>1</td>\n",
       "      <td>54940</td>\n",
       "      <td>5494</td>\n",
       "    </tr>\n",
       "    <tr>\n",
       "      <th>999</th>\n",
       "      <td>Rahul</td>\n",
       "      <td>37</td>\n",
       "      <td>8</td>\n",
       "      <td>78865</td>\n",
       "      <td>7886</td>\n",
       "    </tr>\n",
       "  </tbody>\n",
       "</table>\n",
       "</div>"
      ],
      "text/plain": [
       "         Name  Age  Experience  Salary  Increment\n",
       "EmpID                                            \n",
       "111      Amit   31           5   76804       8448\n",
       "222     Jeena   31           2   70350       8442\n",
       "333      John   36           4   86907       9559\n",
       "444     Vivek   35           9   77576       7757\n",
       "555      Luke   40           6   59766       5976\n",
       "666    Harris   36           1   55001       4950\n",
       "777    Warner   32           3   55673       5010\n",
       "888    Dravid   34           1   54940       5494\n",
       "999     Rahul   37           8   78865       7886"
      ]
     },
     "execution_count": 59,
     "metadata": {},
     "output_type": "execute_result"
    }
   ],
   "source": [
    "pd.merge(emp,salary,left_index=True,right_index=True)"
   ]
  },
  {
   "cell_type": "code",
   "execution_count": 61,
   "id": "361783b1-7e34-451e-92b9-a698f1c99f61",
   "metadata": {},
   "outputs": [
    {
     "name": "stdout",
     "output_type": "stream",
     "text": [
      "   EmpID           City\n",
      "0    111            Goa\n",
      "1    222  New York City\n",
      "2    333           Troy\n",
      "3    444         Mumbai\n",
      "4    555        Chennai\n",
      "5    666          Delhi\n",
      "6    777        Gurgaon\n",
      "7    888          Noida\n",
      "8    999       Portland\n"
     ]
    }
   ],
   "source": [
    "city = pd.read_clipboard()\n",
    "print(city)"
   ]
  },
  {
   "cell_type": "code",
   "execution_count": 63,
   "id": "04d4ca63-499d-4d4a-9af3-bd289fd358ad",
   "metadata": {},
   "outputs": [
    {
     "data": {
      "text/html": [
       "<div>\n",
       "<style scoped>\n",
       "    .dataframe tbody tr th:only-of-type {\n",
       "        vertical-align: middle;\n",
       "    }\n",
       "\n",
       "    .dataframe tbody tr th {\n",
       "        vertical-align: top;\n",
       "    }\n",
       "\n",
       "    .dataframe thead th {\n",
       "        text-align: right;\n",
       "    }\n",
       "</style>\n",
       "<table border=\"1\" class=\"dataframe\">\n",
       "  <thead>\n",
       "    <tr style=\"text-align: right;\">\n",
       "      <th></th>\n",
       "      <th>Name</th>\n",
       "      <th>Age</th>\n",
       "      <th>Experience</th>\n",
       "      <th>EmpID</th>\n",
       "      <th>City</th>\n",
       "    </tr>\n",
       "  </thead>\n",
       "  <tbody>\n",
       "    <tr>\n",
       "      <th>0</th>\n",
       "      <td>Amit</td>\n",
       "      <td>31</td>\n",
       "      <td>5</td>\n",
       "      <td>111</td>\n",
       "      <td>Goa</td>\n",
       "    </tr>\n",
       "    <tr>\n",
       "      <th>1</th>\n",
       "      <td>Jeena</td>\n",
       "      <td>31</td>\n",
       "      <td>2</td>\n",
       "      <td>222</td>\n",
       "      <td>New York City</td>\n",
       "    </tr>\n",
       "    <tr>\n",
       "      <th>2</th>\n",
       "      <td>John</td>\n",
       "      <td>36</td>\n",
       "      <td>4</td>\n",
       "      <td>333</td>\n",
       "      <td>Troy</td>\n",
       "    </tr>\n",
       "    <tr>\n",
       "      <th>3</th>\n",
       "      <td>Vivek</td>\n",
       "      <td>35</td>\n",
       "      <td>9</td>\n",
       "      <td>444</td>\n",
       "      <td>Mumbai</td>\n",
       "    </tr>\n",
       "    <tr>\n",
       "      <th>4</th>\n",
       "      <td>Luke</td>\n",
       "      <td>40</td>\n",
       "      <td>6</td>\n",
       "      <td>555</td>\n",
       "      <td>Chennai</td>\n",
       "    </tr>\n",
       "    <tr>\n",
       "      <th>5</th>\n",
       "      <td>Harris</td>\n",
       "      <td>36</td>\n",
       "      <td>1</td>\n",
       "      <td>666</td>\n",
       "      <td>Delhi</td>\n",
       "    </tr>\n",
       "    <tr>\n",
       "      <th>6</th>\n",
       "      <td>Warner</td>\n",
       "      <td>32</td>\n",
       "      <td>3</td>\n",
       "      <td>777</td>\n",
       "      <td>Gurgaon</td>\n",
       "    </tr>\n",
       "    <tr>\n",
       "      <th>7</th>\n",
       "      <td>Dravid</td>\n",
       "      <td>34</td>\n",
       "      <td>1</td>\n",
       "      <td>888</td>\n",
       "      <td>Noida</td>\n",
       "    </tr>\n",
       "    <tr>\n",
       "      <th>8</th>\n",
       "      <td>Rahul</td>\n",
       "      <td>37</td>\n",
       "      <td>8</td>\n",
       "      <td>999</td>\n",
       "      <td>Portland</td>\n",
       "    </tr>\n",
       "  </tbody>\n",
       "</table>\n",
       "</div>"
      ],
      "text/plain": [
       "     Name  Age  Experience  EmpID           City\n",
       "0    Amit   31           5    111            Goa\n",
       "1   Jeena   31           2    222  New York City\n",
       "2    John   36           4    333           Troy\n",
       "3   Vivek   35           9    444         Mumbai\n",
       "4    Luke   40           6    555        Chennai\n",
       "5  Harris   36           1    666          Delhi\n",
       "6  Warner   32           3    777        Gurgaon\n",
       "7  Dravid   34           1    888          Noida\n",
       "8   Rahul   37           8    999       Portland"
      ]
     },
     "execution_count": 63,
     "metadata": {},
     "output_type": "execute_result"
    }
   ],
   "source": [
    "# merging based on index and row col match\n",
    "pd.merge(emp, city, left_index=True, right_on=\"EmpID\")\n"
   ]
  },
  {
   "cell_type": "code",
   "execution_count": 72,
   "id": "960949ef-1008-4b3b-9248-d54a9b2cf185",
   "metadata": {},
   "outputs": [],
   "source": [
    "emp=emp.reset_index()\n",
    "salary=salary.reset_index()\n",
    "city=city.reset_index()"
   ]
  },
  {
   "cell_type": "markdown",
   "id": "2027c29f-8360-48dd-9ecd-d930378c3dad",
   "metadata": {},
   "source": [
    "    JOINING MULTIPLE TABLES - A,B,C,D\n",
    "    JOIN A+B:AB\n",
    "    JOIN AB+C:ABC\n",
    "    JOIN ABC+D:ABCD"
   ]
  },
  {
   "cell_type": "code",
   "execution_count": 77,
   "id": "62efc256-6ed0-42f5-a84c-c40ab7a90c3f",
   "metadata": {},
   "outputs": [
    {
     "name": "stdout",
     "output_type": "stream",
     "text": [
      "EMPLOYEE TABLE \n",
      "    EmpID    Name  Age  Experience\n",
      "0    111    Amit   31           5\n",
      "1    222   Jeena   31           2\n",
      "2    333    John   36           4\n",
      "3    444   Vivek   35           9\n",
      "4    555    Luke   40           6\n",
      "5    666  Harris   36           1\n",
      "6    777  Warner   32           3\n",
      "7    888  Dravid   34           1\n",
      "8    999   Rahul   37           8 \n",
      "\n",
      "SALARY TABLE \n",
      "    EmpID  Salary  Increment\n",
      "0    111   76804       8448\n",
      "1    222   70350       8442\n",
      "2    333   86907       9559\n",
      "3    444   77576       7757\n",
      "4    555   59766       5976\n",
      "5    666   55001       4950\n",
      "6    777   55673       5010\n",
      "7    888   54940       5494\n",
      "8    999   78865       7886 \n",
      "\n",
      "CITY TABLE \n",
      "    index  EmpID           City\n",
      "0      0    111            Goa\n",
      "1      1    222  New York City\n",
      "2      2    333           Troy\n",
      "3      3    444         Mumbai\n",
      "4      4    555        Chennai\n",
      "5      5    666          Delhi\n",
      "6      6    777        Gurgaon\n",
      "7      7    888          Noida\n",
      "8      8    999       Portland \n",
      "\n",
      "EMPLOYEE-SALARY Table (joined)\n",
      "    EmpID    Name  Age  Experience  Salary  Increment\n",
      "0    111    Amit   31           5   76804       8448\n",
      "1    222   Jeena   31           2   70350       8442\n",
      "2    333    John   36           4   86907       9559\n",
      "3    444   Vivek   35           9   77576       7757\n",
      "4    555    Luke   40           6   59766       5976\n",
      "5    666  Harris   36           1   55001       4950\n",
      "6    777  Warner   32           3   55673       5010\n",
      "7    888  Dravid   34           1   54940       5494\n",
      "8    999   Rahul   37           8   78865       7886 \n",
      "\n",
      "EMPLOYEE-SALARY-CITY Table (joined)\n",
      "    EmpID    Name  Age  Experience  Salary  Increment  index           City\n",
      "0    111    Amit   31           5   76804       8448      0            Goa\n",
      "1    222   Jeena   31           2   70350       8442      1  New York City\n",
      "2    333    John   36           4   86907       9559      2           Troy\n",
      "3    444   Vivek   35           9   77576       7757      3         Mumbai\n",
      "4    555    Luke   40           6   59766       5976      4        Chennai\n",
      "5    666  Harris   36           1   55001       4950      5          Delhi\n",
      "6    777  Warner   32           3   55673       5010      6        Gurgaon\n",
      "7    888  Dravid   34           1   54940       5494      7          Noida\n",
      "8    999   Rahul   37           8   78865       7886      8       Portland \n",
      "\n"
     ]
    }
   ],
   "source": [
    "print(\"EMPLOYEE TABLE \\n\",emp,\"\\n\")\n",
    "print(\"SALARY TABLE \\n\",salary,\"\\n\")\n",
    "print(\"CITY TABLE \\n\",city,\"\\n\")\n",
    "EmpSal = pd.merge(emp,salary,on=\"EmpID\",how=\"outer\")\n",
    "print(\"EMPLOYEE-SALARY Table (joined)\\n\",EmpSal,\"\\n\")\n",
    "EmpSalCity = pd.merge(EmpSal,city,on=\"EmpID\",how=\"outer\")\n",
    "print(\"EMPLOYEE-SALARY-CITY Table (joined)\\n\",EmpSalCity,\"\\n\")"
   ]
  },
  {
   "cell_type": "markdown",
   "id": "61b2a806-6f7c-459c-9c46-ba3d86a09564",
   "metadata": {},
   "source": [
    "    APPENDING DATAFRAME"
   ]
  },
  {
   "cell_type": "code",
   "execution_count": 84,
   "id": "c27f8d4d-fc20-4f69-aa23-7227cf316485",
   "metadata": {},
   "outputs": [
    {
     "name": "stdout",
     "output_type": "stream",
     "text": [
      "   EmpID    Name  Age  Experience\n",
      "0    111    Amit   31           5\n",
      "1    222   Jeena   31           2\n",
      "2    333    John   36           4\n",
      "3    444   Vivek   35           9\n",
      "4    555    Luke   40           6\n",
      "5    666  Harris   36           1\n",
      "6    777  Warner   32           3\n",
      "7    888  Dravid   34           1\n",
      "8    999   Rahul   37           8\n"
     ]
    }
   ],
   "source": [
    "read1 = pd.read_clipboard()\n",
    "emp1 = pd.DataFrame(read1)\n",
    "print(emp1)"
   ]
  },
  {
   "cell_type": "code",
   "execution_count": 85,
   "id": "e3d59b62-4781-43bb-b15c-e6e78d93e041",
   "metadata": {},
   "outputs": [
    {
     "name": "stdout",
     "output_type": "stream",
     "text": [
      "   EmpID       Name  Age  Experience\n",
      "0     11    Raymond   92           7\n",
      "1     22      Helen   97           1\n",
      "2     33    Shirley   67           5\n",
      "3     44      Brian   36           9\n",
      "4     55   Benjamin   56           9\n",
      "5     66      Annie   61           3\n",
      "6     77  Christina   24           6\n",
      "7     88      Annie   59           4\n",
      "8     99       Ruby   88           4\n"
     ]
    }
   ],
   "source": [
    "read2 = pd.read_clipboard()\n",
    "emp2 = pd.DataFrame(read2)\n",
    "print(emp2)"
   ]
  },
  {
   "cell_type": "code",
   "execution_count": 87,
   "id": "e1032788-7858-4856-be8b-4f95e0fd7247",
   "metadata": {},
   "outputs": [
    {
     "name": "stdout",
     "output_type": "stream",
     "text": [
      "   EmpID         Name  Age  Experience\n",
      "0      1      Kathryn   91           4\n",
      "1      2  Christopher   94           5\n",
      "2      3       Walter   91           2\n",
      "3      4       Pamela   33           2\n",
      "4      5       Gloria   70           5\n",
      "5      6       Harold   45           5\n",
      "6      7         Judy   56           7\n",
      "7      8       Harold   51           5\n",
      "8      9         Lori   63           9\n"
     ]
    }
   ],
   "source": [
    "read3 = pd.read_clipboard()\n",
    "emp3 = pd.DataFrame(read3)\n",
    "print(emp3)"
   ]
  },
  {
   "cell_type": "code",
   "execution_count": 91,
   "id": "f0e0a03e-632a-4141-ad29-0b2024b21845",
   "metadata": {},
   "outputs": [
    {
     "name": "stdout",
     "output_type": "stream",
     "text": [
      "   EmpID       Name  Age  Experience\n",
      "0    111       Amit   31           5\n",
      "1    222      Jeena   31           2\n",
      "2    333       John   36           4\n",
      "3    444      Vivek   35           9\n",
      "4    555       Luke   40           6\n",
      "5    666     Harris   36           1\n",
      "6    777     Warner   32           3\n",
      "7    888     Dravid   34           1\n",
      "8    999      Rahul   37           8\n",
      "0     11    Raymond   92           7\n",
      "1     22      Helen   97           1\n",
      "2     33    Shirley   67           5\n",
      "3     44      Brian   36           9\n",
      "4     55   Benjamin   56           9\n",
      "5     66      Annie   61           3\n",
      "6     77  Christina   24           6\n",
      "7     88      Annie   59           4\n",
      "8     99       Ruby   88           4\n"
     ]
    }
   ],
   "source": [
    "EMPcombined = pd.concat([emp1,emp2])\n",
    "print(EMPcombined)"
   ]
  },
  {
   "cell_type": "code",
   "execution_count": 95,
   "id": "b36774f5-b720-4451-88b8-2c3843fa3f61",
   "metadata": {},
   "outputs": [
    {
     "name": "stdout",
     "output_type": "stream",
     "text": [
      "    EmpID         Name  Age  Experience\n",
      "0     111         Amit   31           5\n",
      "1     222        Jeena   31           2\n",
      "2     333         John   36           4\n",
      "3     444        Vivek   35           9\n",
      "4     555         Luke   40           6\n",
      "5     666       Harris   36           1\n",
      "6     777       Warner   32           3\n",
      "7     888       Dravid   34           1\n",
      "8     999        Rahul   37           8\n",
      "9      11      Raymond   92           7\n",
      "10     22        Helen   97           1\n",
      "11     33      Shirley   67           5\n",
      "12     44        Brian   36           9\n",
      "13     55     Benjamin   56           9\n",
      "14     66        Annie   61           3\n",
      "15     77    Christina   24           6\n",
      "16     88        Annie   59           4\n",
      "17     99         Ruby   88           4\n",
      "18      1      Kathryn   91           4\n",
      "19      2  Christopher   94           5\n",
      "20      3       Walter   91           2\n",
      "21      4       Pamela   33           2\n",
      "22      5       Gloria   70           5\n",
      "23      6       Harold   45           5\n",
      "24      7         Judy   56           7\n",
      "25      8       Harold   51           5\n",
      "26      9         Lori   63           9\n"
     ]
    }
   ],
   "source": [
    "#concatenate with indexes in sequence\n",
    "EmployeeDB = pd.concat([EMPcombined,emp3],ignore_index=True)\n",
    "print(EmployeeDB)"
   ]
  }
 ],
 "metadata": {
  "kernelspec": {
   "display_name": "Python 3 (ipykernel)",
   "language": "python",
   "name": "python3"
  },
  "language_info": {
   "codemirror_mode": {
    "name": "ipython",
    "version": 3
   },
   "file_extension": ".py",
   "mimetype": "text/x-python",
   "name": "python",
   "nbconvert_exporter": "python",
   "pygments_lexer": "ipython3",
   "version": "3.12.3"
  }
 },
 "nbformat": 4,
 "nbformat_minor": 5
}
